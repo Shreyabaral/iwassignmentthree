{
 "cells": [
  {
   "cell_type": "markdown",
   "metadata": {},
   "source": [
    "A. Make pythonic solutions for each of the following data structure\n",
    "and algorithm problems.\n"
   ]
  },
  {
   "cell_type": "markdown",
   "metadata": {},
   "source": [
    "1.  Bubble Sort"
   ]
  },
  {
   "cell_type": "code",
   "execution_count": 20,
   "metadata": {},
   "outputs": [
    {
     "name": "stdout",
     "output_type": "stream",
     "text": [
      "[1, 3, 32, 67, 90]\n"
     ]
    }
   ],
   "source": [
    "def bubblesort(mylist):\n",
    "    for i in range(len(mylist)):\n",
    "        for j in range(0,len(mylist)-i-1):\n",
    "        \n",
    "            if mylist[j]>mylist[j+1]:\n",
    "                (mylist[j], mylist[j + 1]) = (mylist[j + 1], mylist[j])\n",
    "\n",
    "\n",
    "data=[1,90,67,3,32]\n",
    "bubblesort(data)\n",
    "print(data)\n",
    "        "
   ]
  },
  {
   "cell_type": "markdown",
   "metadata": {},
   "source": [
    "2. Insertion Sort"
   ]
  },
  {
   "cell_type": "code",
   "execution_count": 33,
   "metadata": {},
   "outputs": [
    {
     "name": "stdout",
     "output_type": "stream",
     "text": [
      "1\n",
      "90\n",
      "67\n",
      "32\n",
      "3\n"
     ]
    }
   ],
   "source": [
    "def insertionsort(mylist):\n",
    "    for i in range(0,len(mylist)):\n",
    "        item=mylist[i]\n",
    "        j=i-1\n",
    "        while j>0 and item > mylist[j]:\n",
    "            mylist[j+1]= mylist[j]\n",
    "            j -= 1\n",
    "            mylist[j+1]= item\n",
    "        \n",
    "data=[1,90,67,3,32]\n",
    "insertionsort(data)\n",
    "for i in range(len(data)):\n",
    "    print(\"%d\" %data[i])"
   ]
  },
  {
   "cell_type": "markdown",
   "metadata": {},
   "source": [
    "3. Merge Sort"
   ]
  },
  {
   "cell_type": "code",
   "execution_count": 50,
   "metadata": {},
   "outputs": [
    {
     "name": "stdout",
     "output_type": "stream",
     "text": [
      "[-90, 2, 3, 4, 15, 45, 56, 78]\n"
     ]
    }
   ],
   "source": [
    "def mergesort(arr):\n",
    "    if len(arr)>1:\n",
    "        mid=len(arr)//2\n",
    "        left=arr[:mid]\n",
    "        right=arr[mid:]\n",
    "        left=mergesort(left)\n",
    "        right=mergesort(right)\n",
    "        arr=[]\n",
    "        while len(left)>0 and len(right)>0:\n",
    "            if left[0]<right[0]:\n",
    "                arr.append(left[0])\n",
    "                left.pop(0)\n",
    "            else:\n",
    "                arr.append(right[0])\n",
    "                right.pop(0)\n",
    "        \n",
    "        for i in left:\n",
    "            arr.append(i)\n",
    "        for i in right:\n",
    "            arr.append(i)\n",
    "    \n",
    "    return arr\n",
    "\n",
    "mylist=[15,56,3,4,2,78,45,-90]\n",
    "a=mergesort(mylist)\n",
    "print(a)\n",
    "        "
   ]
  },
  {
   "cell_type": "markdown",
   "metadata": {},
   "source": [
    "4. Linear Search"
   ]
  },
  {
   "cell_type": "code",
   "execution_count": 76,
   "metadata": {},
   "outputs": [
    {
     "name": "stdout",
     "output_type": "stream",
     "text": [
      "Element not found\n"
     ]
    }
   ],
   "source": [
    "def linear_search(mylist,n,x):\n",
    "    for i in range(0,n):\n",
    "        if (mylist[i]==x):\n",
    "            return i;\n",
    "    return -1;\n",
    "        \n",
    "my=[1,2,3,4,5,6,78,90]\n",
    "xx=579\n",
    "nl= len(mylist)\n",
    "\n",
    "\n",
    "result=linear_search(my,nl,xx)\n",
    "if (result == -1):\n",
    "    print(\"Element not found\")\n",
    "else:\n",
    "    print(\"found at index\",result )"
   ]
  },
  {
   "cell_type": "markdown",
   "metadata": {},
   "source": [
    "5. Binary Search"
   ]
  },
  {
   "cell_type": "code",
   "execution_count": 3,
   "metadata": {},
   "outputs": [
    {
     "name": "stdout",
     "output_type": "stream",
     "text": [
      "Element is not present in array\n"
     ]
    }
   ],
   "source": [
    "def binary_search(mylist,n,l,x):\n",
    "    if n>l:\n",
    "        mid=l+(n-1) // 2\n",
    "        if mylist[mid] ==x:\n",
    "            return mid\n",
    "        elif mylist[mid]>x:\n",
    "            return binary_search(mylist,mid-1,l,x)\n",
    "        else:\n",
    "            return binary_search(mylist,mid+1,l,x)\n",
    "    else:\n",
    "        return -1\n",
    "arr = [2, 3, 4, 10, 40] \n",
    "x =2\n",
    "  \n",
    "# Function call \n",
    "result = binary_search(arr,len(arr)-1,0, x) \n",
    "  \n",
    "if result != -1: \n",
    "    print (\"Element is present at index % d\" % result) \n",
    "else: \n",
    "    print (\"Element is not present in array\") \n",
    "\n",
    "            \n",
    "            "
   ]
  },
  {
   "cell_type": "markdown",
   "metadata": {},
   "source": [
    "\n",
    "6. Interpolation Search"
   ]
  },
  {
   "cell_type": "code",
   "execution_count": 12,
   "metadata": {},
   "outputs": [
    {
     "name": "stdout",
     "output_type": "stream",
     "text": [
      "Element found at index 13\n"
     ]
    }
   ],
   "source": [
    "def interpolationSearch(arr, lo, hi, x): \n",
    "      if (lo <= hi and x >= arr[lo] and x <= arr[hi]): \n",
    "        pos = lo + ((hi - lo) // (arr[hi] - arr[lo]) *(x - arr[lo])) \n",
    "                                       \n",
    "  \n",
    "        \n",
    "        if arr[pos] == x: \n",
    "            return pos \n",
    "  \n",
    "         \n",
    "        if arr[pos] < x: \n",
    "            return interpolationSearch(arr, pos + 1, \n",
    "                                       hi, x) \n",
    "          \n",
    "        \n",
    "        if arr[pos] > x: \n",
    "            return interpolationSearch(arr, lo,pos - 1, x) \n",
    "                                       \n",
    "    return -1\n",
    "  \n",
    "\n",
    "arr = [ 10, 12, 13, 16, 18, 19, 20, 21, 22, 23, 24, 33, 35, 42, 47 ]  \n",
    "n = len(arr)  \n",
    "  \n",
    "x = 42\n",
    "index = interpolationSearch(arr, 0, n - 1, x)  \n",
    "  \n",
    "if index != -1:  \n",
    "    print(\"Element found at index\", index) \n",
    "else:  \n",
    "    print(\"Element not found\") \n",
    "  "
   ]
  },
  {
   "cell_type": "markdown",
   "metadata": {},
   "source": [
    "7.Dijkstra’s Algorithm"
   ]
  },
  {
   "cell_type": "code",
   "execution_count": 18,
   "metadata": {},
   "outputs": [
    {
     "name": "stdout",
     "output_type": "stream",
     "text": [
      "Vertex tDistance from Source\n",
      "0 t 0\n",
      "1 t 4\n",
      "2 t 12\n",
      "3 t 19\n",
      "4 t 21\n",
      "5 t 11\n",
      "6 t 9\n",
      "7 t 8\n",
      "8 t 14\n"
     ]
    }
   ],
   "source": [
    "import sys \n",
    "   \n",
    "class Graph(): \n",
    "   \n",
    "    def __init__(self, vertices): \n",
    "        self.V = vertices \n",
    "        self.graph = [[0 for column in range(vertices)]  \n",
    "                    for row in range(vertices)] \n",
    "   \n",
    "    def printSolution(self, dist): \n",
    "        print (\"Vertex tDistance from Source\") \n",
    "        for node in range(self.V): \n",
    "            print (node, \"t\", dist[node]) \n",
    "   \n",
    "    \n",
    "    def minDistance(self, dist, sptSet): \n",
    "   \n",
    "        \n",
    "        min = sys.maxsize \n",
    "   \n",
    "       \n",
    "        for v in range(self.V): \n",
    "            if dist[v] < min and sptSet[v] == False: \n",
    "                min = dist[v] \n",
    "                min_index = v \n",
    "   \n",
    "        return min_index \n",
    "   \n",
    "    \n",
    "    def dijkstra(self, src): \n",
    "   \n",
    "        dist = [sys.maxsize] * self.V \n",
    "        dist[src] = 0\n",
    "        sptSet = [False] * self.V \n",
    "   \n",
    "        for cout in range(self.V): \n",
    "   \n",
    "           \n",
    "            u = self.minDistance(dist, sptSet) \n",
    "   \n",
    "             \n",
    "            sptSet[u] = True\n",
    "   \n",
    "           \n",
    "            for v in range(self.V): \n",
    "                if self.graph[u][v] > 0 and sptSet[v] == False and dist[v] > dist[u] + self.graph[u][v]: \n",
    "                    dist[v] = dist[u] + self.graph[u][v] \n",
    "   \n",
    "        self.printSolution(dist) \n",
    "   \n",
    "# Driver program \n",
    "g = Graph(9) \n",
    "g.graph = [[0, 4, 0, 0, 0, 0, 0, 8, 0], \n",
    "        [4, 0, 8, 0, 0, 0, 0, 11, 0], \n",
    "        [0, 8, 0, 7, 0, 4, 0, 0, 2], \n",
    "        [0, 0, 7, 0, 9, 14, 0, 0, 0], \n",
    "        [0, 0, 0, 9, 0, 10, 0, 0, 0], \n",
    "        [0, 0, 4, 14, 10, 0, 2, 0, 0], \n",
    "        [0, 0, 0, 0, 0, 2, 0, 1, 6], \n",
    "        [8, 11, 0, 0, 0, 0, 1, 0, 7], \n",
    "        [0, 0, 2, 0, 0, 0, 6, 7, 0] \n",
    "        ]; \n",
    "   \n",
    "g.dijkstra(0); "
   ]
  },
  {
   "cell_type": "markdown",
   "metadata": {},
   "source": [
    "8. Tower of Hanoi problem for ‘n’ number of disks."
   ]
  },
  {
   "cell_type": "code",
   "execution_count": 24,
   "metadata": {},
   "outputs": [
    {
     "name": "stdout",
     "output_type": "stream",
     "text": [
      "Move disk 1 from rod A to rod B\n",
      "Move disk2from rodAto rodC\n",
      "Move disk 1 from rod B to rod C\n",
      "Move disk3from rodAto rodB\n",
      "Move disk 1 from rod C to rod A\n",
      "Move disk2from rodCto rodB\n",
      "Move disk 1 from rod A to rod B\n",
      "Move disk4from rodAto rodC\n",
      "Move disk 1 from rod B to rod C\n",
      "Move disk2from rodBto rodA\n",
      "Move disk 1 from rod C to rod A\n",
      "Move disk3from rodBto rodC\n",
      "Move disk 1 from rod A to rod B\n",
      "Move disk2from rodAto rodC\n",
      "Move disk 1 from rod B to rod C\n"
     ]
    }
   ],
   "source": [
    "def TowerOfHanoi(n , from_rod, to_rod, aux_rod): \n",
    "    if n == 1: \n",
    "        print (\"Move disk 1 from rod\",from_rod,\"to rod\",to_rod) \n",
    "        return\n",
    "    \n",
    "    TowerOfHanoi(n-1, from_rod, aux_rod, to_rod) \n",
    "    print(f\"Move disk{n}from rod{from_rod}to rod{to_rod}\") \n",
    "    TowerOfHanoi(n-1, aux_rod, to_rod, from_rod) \n",
    "    \n",
    "n = 4\n",
    "TowerOfHanoi(n, 'A', 'C', 'B') "
   ]
  },
  {
   "cell_type": "code",
   "execution_count": null,
   "metadata": {},
   "outputs": [],
   "source": []
  },
  {
   "cell_type": "code",
   "execution_count": null,
   "metadata": {},
   "outputs": [],
   "source": []
  }
 ],
 "metadata": {
  "kernelspec": {
   "display_name": "Python 3",
   "language": "python",
   "name": "python3"
  },
  "language_info": {
   "codemirror_mode": {
    "name": "ipython",
    "version": 3
   },
   "file_extension": ".py",
   "mimetype": "text/x-python",
   "name": "python",
   "nbconvert_exporter": "python",
   "pygments_lexer": "ipython3",
   "version": "3.7.6"
  }
 },
 "nbformat": 4,
 "nbformat_minor": 4
}
